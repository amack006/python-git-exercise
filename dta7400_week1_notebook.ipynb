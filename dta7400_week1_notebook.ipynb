{
 "cells": [
  {
   "cell_type": "markdown",
   "metadata": {},
   "source": [
    "___"
   ]
  },
  {
   "cell_type": "markdown",
   "metadata": {},
   "source": [
    "<center>\n",
    "<h1><u>DTA 7400 - Data Science </u></h1>\n",
    "<h3>Week 1 Assignment - Basic Python Programming Skills using Jupyter Notebook</h3>\n",
    "</center>"
   ]
  },
  {
   "cell_type": "markdown",
   "metadata": {},
   "source": [
    "___"
   ]
  },
  {
   "cell_type": "markdown",
   "metadata": {},
   "source": [
    "## Welcome to Jupyter notebook!\n",
    "\n",
    "You will run all your python codes using jupyter notebook, so it is important that you get introduced to jupyter notebook and demostrate some basic programming skills.\n",
    "\n",
    "Notebooks will let you run codes and add block of texts to provide information related to what you are doing. "
   ]
  },
  {
   "cell_type": "markdown",
   "metadata": {},
   "source": [
    "**Objective:** To develop proficiency in using Markdown for documentation within Python programming, specifically in a Jupyter Notebook environment. This assignment will help you learn how to effectively combine code and rich text elements, including headings, lists, tables, links, images, and more, to create well-documented and readable Python projects."
   ]
  },
  {
   "cell_type": "markdown",
   "metadata": {},
   "source": [
    "#### Assignment Overview\n",
    "\n",
    "You will create a Jupyter Notebook that demonstrates various Markdown elements along with Python code. The notebook should serve as a guide to Markdown, showcasing how it can be used for documentation in Python projects.\n",
    "\n",
    "#### Part 1: Basic Markdown Elements\n",
    "\n",
    "1. **Headers:**\n",
    "   - Use various header levels (H1, H2, H3) to create a structured document. \n",
    "\n",
    "2. **Paragraphs and Emphasis:**\n",
    "   - Write a brief introductory paragraph about the purpose of the notebook.\n",
    "   - Utilize bold and italic text for emphasis.\n",
    "\n",
    "3. **Lists:**\n",
    "   - Create both unordered (bullet points) and ordered lists to outline different Python data types, libraries, or any other relevant information."
   ]
  },
  {
   "cell_type": "markdown",
   "metadata": {},
   "source": [
    "**Double click on this text. You should get a markdown cell that you can edit.**\n",
    "\n",
    "\n",
    "\n",
    "**Add your information:**\n"
   ]
  },
  {
   "cell_type": "markdown",
   "metadata": {},
   "source": [
    "### Integrating Python Code and Markdown"
   ]
  },
  {
   "cell_type": "markdown",
   "metadata": {},
   "source": [
    "#### We can also run python code in notebooks.\n",
    "\n",
    "#### Run the following cell."
   ]
  },
  {
   "cell_type": "code",
   "execution_count": null,
   "metadata": {
    "collapsed": false,
    "jupyter": {
     "outputs_hidden": false
    }
   },
   "outputs": [],
   "source": [
    "# Set the string 'Hello World' as a variable named s.\n",
    "s = \"Hello world\" \n",
    "# use the built in python function print() to print the content of the variable.\n",
    "print (s)"
   ]
  },
  {
   "cell_type": "code",
   "execution_count": null,
   "metadata": {
    "collapsed": false,
    "jupyter": {
     "outputs_hidden": false
    }
   },
   "outputs": [],
   "source": [
    "# Reverse and print out the output\n",
    "print (s[::-1])"
   ]
  },
  {
   "cell_type": "markdown",
   "metadata": {},
   "source": [
    "If there is a problem with your code, error messages will be displayed. "
   ]
  },
  {
   "cell_type": "markdown",
   "metadata": {},
   "source": [
    "You will see python reported an SyntaxError message and gave you suggestion on how to fix it."
   ]
  },
  {
   "cell_type": "markdown",
   "metadata": {},
   "source": [
    "___"
   ]
  },
  {
   "cell_type": "markdown",
   "metadata": {},
   "source": [
    "**You will be expected to understand basic navigation of the notebook. You are encouraged to add cells and try out different pieces of codes. For more information on using notebooks you are highly encouraged to go through the [tutorial](https://jupyter-notebook-beginner-guide.readthedocs.io/en/latest/what_is_jupyter.html) available online.**"
   ]
  },
  {
   "cell_type": "markdown",
   "metadata": {},
   "source": [
    "___"
   ]
  },
  {
   "cell_type": "markdown",
   "metadata": {},
   "source": [
    "## Import some data science tools (libraries) needed"
   ]
  },
  {
   "cell_type": "code",
   "execution_count": null,
   "metadata": {},
   "outputs": [],
   "source": [
    "# Pandas for managing datasets\n",
    "import pandas as pd\n",
    "\n",
    "# Matplotlib for additional customization\n",
    "import matplotlib.pyplot as plt\n",
    "\n",
    "# Seaborn for plotting and styling\n",
    "import seaborn as sns"
   ]
  },
  {
   "cell_type": "markdown",
   "metadata": {},
   "source": [
    "**Show datasets that are included in Seaborn package**"
   ]
  },
  {
   "cell_type": "code",
   "execution_count": null,
   "metadata": {},
   "outputs": [],
   "source": [
    "sns.get_dataset_names()"
   ]
  },
  {
   "cell_type": "code",
   "execution_count": null,
   "metadata": {},
   "outputs": [],
   "source": [
    "# Load the tips dataset into a dataframe and display the first 5 rows\n",
    "tips = sns.load_dataset('tips')\n",
    "\n",
    "tips.head(5)"
   ]
  },
  {
   "cell_type": "code",
   "execution_count": null,
   "metadata": {},
   "outputs": [],
   "source": [
    "# plot the number of tips by weekday\n",
    "sns.countplot(x='day', data=tips, hue='sex')"
   ]
  },
  {
   "cell_type": "markdown",
   "metadata": {},
   "source": [
    "## General Troubleshooting Tip\n",
    "\n",
    "When you are having issues —Google. \n",
    "\n",
    "It is unlikely you are the only one encountering errors and [Stack Overflow](http://stackoverflow.com/) is full of solutions. Including your OS and \"python\" in your search with the error message will help you find the most useful results. \n",
    "For example: `python windows install scipy <error message>`"
   ]
  },
  {
   "cell_type": "code",
   "execution_count": null,
   "metadata": {},
   "outputs": [],
   "source": []
  },
  {
   "cell_type": "markdown",
   "metadata": {},
   "source": [
    "# Print out your current working directory\n",
    "\n"
   ]
  },
  {
   "cell_type": "code",
   "execution_count": null,
   "metadata": {},
   "outputs": [],
   "source": [
    "# import library to access the computer operating system\n",
    "import os\n"
   ]
  },
  {
   "cell_type": "code",
   "execution_count": null,
   "metadata": {},
   "outputs": [],
   "source": [
    "# Python method getcwd() returns current working directory of a process.\n",
    "os.getcwd()"
   ]
  },
  {
   "cell_type": "code",
   "execution_count": null,
   "metadata": {},
   "outputs": [],
   "source": [
    "# save the curent working directory in a variable\n",
    "my_directory = os.getcwd()"
   ]
  },
  {
   "cell_type": "code",
   "execution_count": null,
   "metadata": {},
   "outputs": [],
   "source": [
    "# print the current working directory \n",
    "print(\"my current working directory is:\" +  my_directory)"
   ]
  },
  {
   "cell_type": "markdown",
   "metadata": {},
   "source": [
    "## Using Anaconda to open a downloaded jupyter notebook"
   ]
  },
  {
   "cell_type": "markdown",
   "metadata": {},
   "source": [
    "1. Open Anaconda prompt\n",
    "2. Navigate to the directory where you are keeping your project or downloaded files\n",
    "- To do this, first type 'dir` and hit Enter to see what subfolders you have \n",
    "- Then type `cd` and the name of the subfolder to navigate to that, then hit Enter\n",
    "- If you need to go back a level, type `cd..` and hit Enter\n",
    "- Once you are in the directory you need, type `jupyter notebook` and hit Enter. \n",
    "3. jupyter notebook will launch in a browser"
   ]
  },
  {
   "cell_type": "markdown",
   "metadata": {},
   "source": [
    "________"
   ]
  },
  {
   "cell_type": "markdown",
   "metadata": {},
   "source": [
    "## Download a CSV file and read the data for analysis"
   ]
  },
  {
   "cell_type": "markdown",
   "metadata": {},
   "source": [
    "**The most popular baby names in NYC dataset**  can be downloaded from this URL. Set the url to a variable path\n"
   ]
  },
  {
   "cell_type": "code",
   "execution_count": null,
   "metadata": {},
   "outputs": [],
   "source": [
    "#URL set to variable path\n",
    "path = \"https://data.cityofnewyork.us/api/views/25th-nujf/rows.csv?accessType=DOWNLOAD\""
   ]
  },
  {
   "cell_type": "markdown",
   "metadata": {},
   "source": [
    "- In Jupyter Notebook, in an empty cell,  type `import pandas as pd`.  \n",
    "- Then on the menu bar choose Cell -> Cell Type -> Code\n",
    "- Then in the menu bar choose Insert -> Insert Cell Below  \n",
    "- Copy and paste the following lines into the cell.  Make sure this is also the Code Cell Type.\n",
    "\n",
    "```\n",
    "import pandas as pd   # import the pandas library\n",
    "nycnames = pd.DataFrame(pd.read_csv(path)) # using pandas read the csv file and save as a dataframe with name nycnames \n",
    "nycnames.describe(include='all') # provide summary statistics of the dataset\n",
    "```\n"
   ]
  },
  {
   "cell_type": "markdown",
   "metadata": {},
   "source": [
    "**In your Jupyter Notebook try out some basic pandas syntax, use google to search for python and pandas syntax that you can try**"
   ]
  },
  {
   "cell_type": "code",
   "execution_count": null,
   "metadata": {},
   "outputs": [],
   "source": [
    "import pandas as pd   # import the pandas library\n",
    "nycnames = pd.DataFrame(pd.read_csv(path)) # using pandas read the csv file and save as a dataframe with name nycnames \n",
    "nycnames.describe(include='all') # provide summary statistics of the dataset"
   ]
  },
  {
   "cell_type": "code",
   "execution_count": null,
   "metadata": {},
   "outputs": [],
   "source": []
  }
 ],
 "metadata": {
  "kernelspec": {
   "display_name": "Python 3 (ipykernel)",
   "language": "python",
   "name": "python3"
  },
  "language_info": {
   "codemirror_mode": {
    "name": "ipython",
    "version": 3
   },
   "file_extension": ".py",
   "mimetype": "text/x-python",
   "name": "python",
   "nbconvert_exporter": "python",
   "pygments_lexer": "ipython3",
   "version": "3.10.10"
  }
 },
 "nbformat": 4,
 "nbformat_minor": 4
}
